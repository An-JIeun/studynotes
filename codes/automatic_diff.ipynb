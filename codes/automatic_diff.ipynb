{
 "cells": [
  {
   "cell_type": "markdown",
   "metadata": {},
   "source": [
    "# 파이썬 라이브러리를 활용한 자동미분\n",
    "---\n",
    "- 최종수정일 : 2024-03-12"
   ]
  },
  {
   "cell_type": "markdown",
   "metadata": {},
   "source": [
    "## 1. 파이토치를 활용한 자동미분"
   ]
  },
  {
   "cell_type": "markdown",
   "metadata": {},
   "source": [
    "### step1  텐서 생성\n",
    "```python\n",
    "x = torch.tensor(5.0)\n",
    "```\n",
    "\n",
    "### step2 텐서 객체 x 기울기 추적\n",
    "\n",
    "텐서 객체 x로 만들어진 모든 변수, 또는 x에 대한 계산으로 만들어진 모든 텐서의 기울기를 추적\n",
    "즉, 예를 들어 y = x**2 라는 식을 실행했을 때, x값에서 y값까지의 경사가 추적된다.\n",
    "이것을 순전파(forward pass)라고 한다.\n",
    "\n",
    "```python\n",
    "x.requires_grad_(True)\n",
    "y = x**2  # 순전파\n",
    "```\n",
    "\n",
    "### step3 y에 대한 backward 실행으로 자동미분 계산\n",
    "\n",
    "여기서, 자동미분은 barkward pass 를 실행시킬 때 계산된다.즉, 역으로 y에서 x값 까지로의 경사를 추적해 도함수를 구한다.\n",
    "\n",
    "```python\n",
    "y.backward()\n",
    "```\n",
    "\n",
    "### step4 기울기 확인\n",
    "\n",
    "```python\n",
    "x.grad\n",
    "```"
   ]
  },
  {
   "cell_type": "code",
   "execution_count": 3,
   "metadata": {},
   "outputs": [],
   "source": [
    "import torch"
   ]
  },
  {
   "cell_type": "code",
   "execution_count": 4,
   "metadata": {},
   "outputs": [],
   "source": [
    "x = torch.tensor(5.0)\n",
    "x.requires_grad_(True)\n",
    "y = x**2\n",
    "\n",
    "y.backward()"
   ]
  },
  {
   "cell_type": "code",
   "execution_count": 6,
   "metadata": {},
   "outputs": [
    {
     "data": {
      "text/plain": [
       "tensor(10.)"
      ]
     },
     "execution_count": 6,
     "metadata": {},
     "output_type": "execute_result"
    }
   ],
   "source": [
    "x.grad"
   ]
  },
  {
   "cell_type": "markdown",
   "metadata": {},
   "source": [
    "## 2. 텐서플로우를 활용한 자동미분\n",
    "\n",
    "torch와는 다르게, 전역적으로 경사를 추적하는 것이 아닌, GradientTape으로 경사 추적"
   ]
  },
  {
   "cell_type": "code",
   "execution_count": 8,
   "metadata": {},
   "outputs": [],
   "source": [
    "import tensorflow as tf"
   ]
  },
  {
   "cell_type": "code",
   "execution_count": 9,
   "metadata": {},
   "outputs": [
    {
     "data": {
      "text/plain": [
       "<tf.Tensor: shape=(), dtype=float32, numpy=10.0>"
      ]
     },
     "execution_count": 9,
     "metadata": {},
     "output_type": "execute_result"
    }
   ],
   "source": [
    "x = tf.Variable(5.0)\n",
    "with tf.GradientTape() as t:\n",
    "    t.watch(x) # 순전파(forward pass) 추적 torch의 requires_grad_와 비슷한 역할\n",
    "    y = x**2\n",
    "t.gradient(y,x) # 자동 미분"
   ]
  }
 ],
 "metadata": {
  "kernelspec": {
   "display_name": "base",
   "language": "python",
   "name": "python3"
  },
  "language_info": {
   "codemirror_mode": {
    "name": "ipython",
    "version": 3
   },
   "file_extension": ".py",
   "mimetype": "text/x-python",
   "name": "python",
   "nbconvert_exporter": "python",
   "pygments_lexer": "ipython3",
   "version": "3.11.5"
  }
 },
 "nbformat": 4,
 "nbformat_minor": 2
}
