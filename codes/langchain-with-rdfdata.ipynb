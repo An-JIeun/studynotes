{
 "cells": [
  {
   "cell_type": "markdown",
   "metadata": {},
   "source": [
    "# Langchain으로 RDF 형식 데이터 활용하기\n",
    "---\n",
    "- 2024-02-13"
   ]
  },
  {
   "cell_type": "code",
   "execution_count": 1,
   "metadata": {},
   "outputs": [],
   "source": [
    "import os\n",
    "import dotenv\n",
    "dotenv.load_dotenv()\n",
    "\n",
    "# 코랩 환경에서 실행하고 있다면 os.getenv(\"OPENAI_API_KEY\") 를 지우고 본인의 api key를 입력하면 된다  \n",
    "API_KEY = os.getenv(\"OPENAI_API_KEY\") # .env 파일에 있는 OPENAI_API_KEY를 가져온다\n",
    "\n",
    "from langchain.chains import GraphSparqlQAChain\n",
    "from langchain_community.graphs import RdfGraph\n",
    "from langchain_openai import ChatOpenAI"
   ]
  },
  {
   "cell_type": "markdown",
   "metadata": {},
   "source": [
    "## 1. 기본 사용법"
   ]
  },
  {
   "cell_type": "markdown",
   "metadata": {},
   "source": [
    "### 1-1. 그래프 로드하기"
   ]
  },
  {
   "cell_type": "code",
   "execution_count": 19,
   "metadata": {},
   "outputs": [],
   "source": [
    "graph = RdfGraph(\n",
    "    source_file=\"test.ttl\",\n",
    "    standard=\"rdf\",\n",
    "    local_copy=\"test.ttl\",  # 그래프에 대한 변경사항이 존재할 경우 로컬에 저장토록 한다.\n",
    ")"
   ]
  },
  {
   "cell_type": "markdown",
   "metadata": {},
   "source": [
    "업데이트 된 그래프를 새로고침하는 코드이다."
   ]
  },
  {
   "cell_type": "code",
   "execution_count": 3,
   "metadata": {},
   "outputs": [],
   "source": [
    "graph.load_schema()"
   ]
  },
  {
   "cell_type": "markdown",
   "metadata": {},
   "source": [
    "스키마를 직접 확인하는 코드이다"
   ]
  },
  {
   "cell_type": "code",
   "execution_count": 33,
   "metadata": {},
   "outputs": [
    {
     "data": {
      "text/plain": [
       "'In the following, each IRI is followed by the local name and optionally its description in parentheses. \\nThe RDF graph supports the following node types:\\n<http://xmlns.com/foaf/0.1/PersonalProfileDocument> (PersonalProfileDocument, None), <http://www.w3.org/2000/10/swap/pim/contact#Male> (Male, None), <http://xmlns.com/foaf/0.1/Person> (Person, None), <http://www.w3.org/2006/vcard/ns#Work> (Work, None), <http://www.w3.org/ns/auth/cert#RSAPublicKey> (RSAPublicKey, None)\\nThe RDF graph supports the following relationships:\\n<http://xmlns.com/foaf/0.1/maker> (maker, None), <http://www.w3.org/1999/02/22-rdf-syntax-ns#type> (type, None), <http://creativecommons.org/ns#license> (license, None), <http://purl.org/dc/elements/1.1/title> (title, None), <http://www.w3.org/2006/vcard/ns#hasAddress> (hasAddress, None), <http://xmlns.com/foaf/0.1/based_near> (based_near, None), <http://www.w3.org/ns/solid/terms#editableProfile> (editableProfile, None), <http://xmlns.com/foaf/0.1/member> (member, None), <http://www.w3.org/2000/10/swap/pim/contact#publicHomePage> (publicHomePage, None), <http://www.w3.org/2000/10/swap/pim/contact#assistant> (assistant, None), <http://www.w3.org/2000/10/swap/pim/contact#homePage> (homePage, None), <http://www.w3.org/ns/solid/terms#publicTypeIndex> (publicTypeIndex, None), <http://xmlns.com/foaf/0.1/primaryTopic> (primaryTopic, None), <http://xmlns.com/foaf/0.1/account> (account, None), <http://xmlns.com/foaf/0.1/name> (name, None), <http://xmlns.com/foaf/0.1/givenname> (givenname, None), <http://www.w3.org/2003/01/geo/wgs84_pos#lat> (lat, None), <http://purl.org/dc/terms/title> (title, None), <http://www.w3.org/2000/10/swap/pim/contact#participant> (participant, None), <http://usefulinc.com/ns/doap#developer> (developer, None), <http://rdfs.org/sioc/ns#avatar> (avatar, None), <http://www.w3.org/2000/10/swap/pim/contact#city> (city, None), <http://www.w3.org/ns/pim/space#storage> (storage, None), <http://www.w3.org/ns/solid/terms#profileHighlightColor> (profileHighlightColor, None), <http://xmlns.com/foaf/0.1/mbox> (mbox, None), <http://www.w3.org/2000/10/swap/pim/contact#office> (office, None), <http://www.w3.org/2006/vcard/ns#locality> (locality, None), <http://schema.org/owns> (owns, None), <http://xmlns.com/foaf/0.1/weblog> (weblog, None), <http://xmlns.com/foaf/0.1/nick> (nick, None), <http://xmlns.com/foaf/0.1/workplaceHomepage> (workplaceHomepage, None), <http://www.w3.org/2000/01/rdf-schema#label> (label, None), <http://www.w3.org/2006/vcard/ns#fn> (fn, None), <http://www.w3.org/2000/10/swap/pim/contact#preferredURI> (preferredURI, None), <http://www.w3.org/2000/10/swap/pim/contact#street> (street, None), <http://www.w3.org/2006/vcard/ns#street-address> (street-address, None), <http://www.w3.org/ns/auth/cert#exponent> (exponent, None), <http://www.w3.org/2006/vcard/ns#region> (region, None), <http://www.w3.org/ns/pim/space#preferencesFile> (preferencesFile, None), <http://www.w3.org/ns/auth/cert#modulus> (modulus, None), <http://www.w3.org/2000/10/swap/pim/contact#country> (country, None), <http://xmlns.com/foaf/0.1/openid> (openid, None), <http://www.w3.org/ns/auth/cert#key> (key, None), <http://www.w3.org/2000/10/swap/pim/contact#postalCode> (postalCode, None), <http://xmlns.com/foaf/0.1/title> (title, None), <http://www.w3.org/2003/01/geo/wgs84_pos#location> (location, None), <http://www.w3.org/2000/10/swap/pim/contact#street2> (street2, None), <http://www.w3.org/2000/01/rdf-schema#seeAlso> (seeAlso, None), <http://www.w3.org/2000/10/swap/pim/contact#address> (address, None), <http://www.w3.org/2006/vcard/ns#postal-code> (postal-code, None), <http://www.w3.org/ns/solid/terms#oidcIssuer> (oidcIssuer, None), <http://www.w3.org/ns/ldp#inbox> (inbox, None), <http://www.w3.org/2003/01/geo/wgs84_pos#long> (long, None), <http://xmlns.com/foaf/0.1/img> (img, None), <http://xmlns.com/foaf/0.1/family_name> (family_name, None), <http://www.w3.org/ns/solid/terms#profileBackgroundColor> (profileBackgroundColor, None), <http://xmlns.com/foaf/0.1/mbox_sha1sum> (mbox_sha1sum, None), <http://xmlns.com/foaf/0.1/homepage> (homepage, None)\\n'"
      ]
     },
     "execution_count": 33,
     "metadata": {},
     "output_type": "execute_result"
    }
   ],
   "source": [
    "graph.get_schema"
   ]
  },
  {
   "cell_type": "markdown",
   "metadata": {},
   "source": [
    "### 1-2. 그래프 내용을 기반한 질의"
   ]
  },
  {
   "cell_type": "code",
   "execution_count": 5,
   "metadata": {},
   "outputs": [
    {
     "name": "stderr",
     "output_type": "stream",
     "text": [
      "c:\\Users\\user\\anaconda3\\Lib\\site-packages\\langchain_core\\_api\\deprecation.py:117: LangChainDeprecationWarning: The function `run` was deprecated in LangChain 0.1.0 and will be removed in 0.2.0. Use invoke instead.\n",
      "  warn_deprecated(\n"
     ]
    },
    {
     "name": "stdout",
     "output_type": "stream",
     "text": [
      "\n",
      "\n",
      "\u001b[1m> Entering new GraphSparqlQAChain chain...\u001b[0m\n",
      "Identified intent:\n",
      "\u001b[32;1m\u001b[1;3mSELECT\u001b[0m\n",
      "Generated SPARQL:\n",
      "\u001b[32;1m\u001b[1;3mPREFIX foaf: <http://xmlns.com/foaf/0.1/>\n",
      "SELECT ?homepage\n",
      "WHERE {\n",
      "    ?person foaf:name \"Tim Berners-Lee\" .\n",
      "    ?person foaf:workplaceHomepage ?homepage .\n",
      "}\u001b[0m\n",
      "Full Context:\n",
      "\u001b[32;1m\u001b[1;3m[]\u001b[0m\n",
      "\n",
      "\u001b[1m> Finished chain.\u001b[0m\n"
     ]
    },
    {
     "data": {
      "text/plain": [
       "\"Tim Berners-Lee's work homepage is http://www.w3.org/People/Berners-Lee/.\""
      ]
     },
     "execution_count": 5,
     "metadata": {},
     "output_type": "execute_result"
    }
   ],
   "source": [
    "chain = GraphSparqlQAChain.from_llm(\n",
    "    ChatOpenAI(temperature=0), graph=graph, verbose=True\n",
    ")\n",
    "chain.run(\"What is Tim Berners-Lee's work homepage?\")"
   ]
  },
  {
   "cell_type": "markdown",
   "metadata": {},
   "source": [
    "### 1-3. 그래프 내용 변경하기\n",
    "- 자연어 쿼리를 통해 그래프의 관계, 속성 등을 변경할 수 있다."
   ]
  },
  {
   "cell_type": "code",
   "execution_count": 31,
   "metadata": {},
   "outputs": [
    {
     "name": "stdout",
     "output_type": "stream",
     "text": [
      "\n",
      "\n",
      "\u001b[1m> Entering new GraphSparqlQAChain chain...\u001b[0m\n",
      "Identified intent:\n",
      "\u001b[32;1m\u001b[1;3mUPDATE\u001b[0m\n",
      "Generated SPARQL:\n",
      "\u001b[32;1m\u001b[1;3mPREFIX foaf: <http://xmlns.com/foaf/0.1/>\n",
      "INSERT {\n",
      "    ?person foaf:workplaceHomepage <http://www.w3.org/foo/bar/dd> .\n",
      "}\n",
      "WHERE {\n",
      "    ?person foaf:name \"Timothy Berners-Lee\" .\n",
      "}\u001b[0m\n",
      "\n",
      "\u001b[1m> Finished chain.\u001b[0m\n"
     ]
    },
    {
     "data": {
      "text/plain": [
       "'Successfully inserted triples into the graph.'"
      ]
     },
     "execution_count": 31,
     "metadata": {},
     "output_type": "execute_result"
    }
   ],
   "source": [
    "chain.run(\n",
    "    \"Save that the person with the name 'Timothy Berners-Lee' has a work homepage at 'http://www.w3.org/foo/bar/dd'\"\n",
    ")"
   ]
  },
  {
   "cell_type": "code",
   "execution_count": 29,
   "metadata": {},
   "outputs": [],
   "source": [
    "graph.load_schema()"
   ]
  },
  {
   "cell_type": "code",
   "execution_count": 32,
   "metadata": {},
   "outputs": [
    {
     "data": {
      "text/plain": [
       "[(rdflib.term.URIRef('http://www.w3.org/foo/bar/'),),\n",
       " (rdflib.term.URIRef('https://www.w3.org/'),)]"
      ]
     },
     "execution_count": 32,
     "metadata": {},
     "output_type": "execute_result"
    }
   ],
   "source": [
    "query = (\n",
    "    \"\"\"PREFIX foaf: <http://xmlns.com/foaf/0.1/>\\n\"\"\"\n",
    "    \"\"\"SELECT ?hp\\n\"\"\"\n",
    "    \"\"\"WHERE {\\n\"\"\"\n",
    "    \"\"\"    ?person foaf:name \"Timothy Berners-Lee\" . \\n\"\"\"\n",
    "    \"\"\"    ?person foaf:workplaceHomepage ?hp .\\n\"\"\"\n",
    "    \"\"\"}\"\"\"\n",
    ")\n",
    "graph.query(query) # 그래프에 대해 바로 쿼리할 수 있다."
   ]
  }
 ],
 "metadata": {
  "kernelspec": {
   "display_name": "base",
   "language": "python",
   "name": "python3"
  },
  "language_info": {
   "codemirror_mode": {
    "name": "ipython",
    "version": 3
   },
   "file_extension": ".py",
   "mimetype": "text/x-python",
   "name": "python",
   "nbconvert_exporter": "python",
   "pygments_lexer": "ipython3",
   "version": "3.11.5"
  }
 },
 "nbformat": 4,
 "nbformat_minor": 2
}
